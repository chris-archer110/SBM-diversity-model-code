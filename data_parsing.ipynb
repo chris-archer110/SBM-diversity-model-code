{
 "cells": [
  {
   "cell_type": "code",
   "execution_count": 46,
   "metadata": {},
   "outputs": [],
   "source": [
    "import os\n",
    "import json\n",
    "import csv"
   ]
  },
  {
   "cell_type": "markdown",
   "metadata": {},
   "source": [
    "Data Cleaning: Academic Collaboration Data"
   ]
  },
  {
   "cell_type": "code",
   "execution_count": 47,
   "metadata": {},
   "outputs": [],
   "source": [
    "\n",
    "def extract_values_from_json(file_path):\n",
    "    with open(file_path, 'r', encoding='utf-8') as file:\n",
    "        data = json.load(file)\n",
    "        id_value = data.get('id', None)\n",
    "        try:\n",
    "            authors_value = [author.get(\"name\",None) for author in data.get('authors', None)]\n",
    "        except:\n",
    "            authors_value = []\n",
    "        date_value = data.get('date', None)\n",
    "        return id_value, authors_value, date_value\n",
    "\n",
    "def parse_folder(folder, csv_writer,first=False):\n",
    "        if first:    \n",
    "            csv_writer.writerow(['File', 'ID', 'Authors', 'Date'])  # Header row\n",
    "\n",
    "        for filename in os.listdir(folder):\n",
    "            if filename.endswith(\".json\"):\n",
    "                file_path = os.path.join(folder, filename)\n",
    "                id_value, authors_value, date_value = extract_values_from_json(file_path)\n",
    "\n",
    "                # Write the values to the CSV file\n",
    "                csv_writer.writerow([filename, id_value, authors_value, date_value])\n",
    "\n"
   ]
  },
  {
   "cell_type": "code",
   "execution_count": 48,
   "metadata": {},
   "outputs": [],
   "source": [
    "def expand_folder(folder_path):\n",
    "    #returns a list of the relative paths subfolders in a folder\n",
    "    return [subfolder for subfolder in  os.listdir(folder_path)]"
   ]
  },
  {
   "cell_type": "code",
   "execution_count": 49,
   "metadata": {},
   "outputs": [
    {
     "name": "stdout",
     "output_type": "stream",
     "text": [
      "Journal: PRAPPLIED\n",
      "Journal: PRA\n",
      "Journal: PRI\n",
      "Journal: PRRESEARCH\n",
      "Journal: PRSTPER\n",
      "Journal: PRAB\n",
      "Journal: PRPER\n",
      "Journal: PR\n",
      "Journal: PRFLUIDS\n",
      "Journal: PRMATERIALS\n",
      "Journal: PRXQUANTUM\n",
      "Journal: PRB\n",
      "Journal: PRE\n",
      "Journal: PRL\n",
      "Journal: PRC\n",
      "Journal: PRX\n",
      "Journal: PRSTAB\n",
      "Journal: PRXENERGY\n"
     ]
    }
   ],
   "source": [
    "# Replace 'your_folder_path' with the actual path to your folder containing JSON files\n",
    "# Replace 'output.csv' with the desired output CSV file path\n",
    "output_csv_path = 'data/aps_raw_data_without_prd.csv'\n",
    "folder_path = '/Users/christopherarcher/Desktop/aps-dataset-metadata-2022'\n",
    "admissible_journals  = os.listdir(folder_path)\n",
    "admissible_journals.remove(\".DS_Store\")\n",
    "admissible_journals.remove(\"RMP\") #review papers, not a valid collaboration\n",
    "admissible_journals.remove(\"PRD\")\n",
    "\n",
    "with open(output_csv_path, 'w', newline='', encoding='utf-8') as csv_file:\n",
    "    csv_writer = csv.writer(csv_file)\n",
    "\n",
    "    for i,journal_folder in enumerate(admissible_journals):\n",
    "\n",
    "        print(f\"Journal: {journal_folder}\")\n",
    "        journal_folder_path = os.path.join(folder_path, journal_folder)\n",
    "        admissible_subfolders =   os.listdir(journal_folder_path)\n",
    "        try:\n",
    "            admissible_subfolders.remove(\".DS_Store\")\n",
    "        except:\n",
    "            continue \n",
    "        for j, subfolder in enumerate(admissible_subfolders):\n",
    "            subfolder_path = os.path.join(journal_folder_path, subfolder)\n",
    "            parse_folder(subfolder_path, csv_writer, first=(i+j==0))"
   ]
  },
  {
   "cell_type": "code",
   "execution_count": 50,
   "metadata": {},
   "outputs": [
    {
     "name": "stdout",
     "output_type": "stream",
     "text": [
      "Journal: PRD\n"
     ]
    }
   ],
   "source": [
    "#Create the test dataset with entries from  a small subset of journals\n",
    "output_csv_path = 'data/aps_raw_data_prd.csv'\n",
    "folder_path = '/Users/christopherarcher/Desktop/aps-dataset-metadata-2022'\n",
    "admissible_journals  = [\"PRD\"]\n",
    "\n",
    "\n",
    "with open(output_csv_path, 'w', newline='', encoding='utf-8') as csv_file:\n",
    "    csv_writer = csv.writer(csv_file)\n",
    "\n",
    "    for i,journal_folder in enumerate(admissible_journals):\n",
    "\n",
    "        print(f\"Journal: {journal_folder}\")\n",
    "        journal_folder_path = os.path.join(folder_path, journal_folder)\n",
    "        admissible_subfolders =   os.listdir(journal_folder_path)\n",
    "        try:\n",
    "            admissible_subfolders.remove(\".DS_Store\")\n",
    "        except:\n",
    "            continue \n",
    "        for j, subfolder in enumerate(admissible_subfolders):\n",
    "            subfolder_path = os.path.join(journal_folder_path, subfolder)\n",
    "            parse_folder(subfolder_path, csv_writer, first=(i+j==0))"
   ]
  },
  {
   "cell_type": "code",
   "execution_count": null,
   "metadata": {},
   "outputs": [],
   "source": []
  }
 ],
 "metadata": {
  "kernelspec": {
   "display_name": "Python 3",
   "language": "python",
   "name": "python3"
  },
  "language_info": {
   "codemirror_mode": {
    "name": "ipython",
    "version": 3
   },
   "file_extension": ".py",
   "mimetype": "text/x-python",
   "name": "python",
   "nbconvert_exporter": "python",
   "pygments_lexer": "ipython3",
   "version": "3.0.0"
  }
 },
 "nbformat": 4,
 "nbformat_minor": 2
}
