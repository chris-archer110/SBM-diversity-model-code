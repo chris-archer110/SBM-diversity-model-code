{
 "cells": [
  {
   "cell_type": "code",
   "execution_count": null,
   "metadata": {},
   "outputs": [],
   "source": [
    "import csv\n",
    "import pandas as pd\n",
    "from functools import reduce\n",
    "from genderperformr import GenderPerformr\n"
   ]
  },
  {
   "cell_type": "markdown",
   "metadata": {},
   "source": [
    "Applies Filters to the Dataset\n",
    "1. Cuts all publications before 1980\n",
    "2. [Maybe] Only includes authors who have had their first publication past 1980 (does it matter?)\n",
    "3. Restricts authors to those who have published at least once every 5 years \n",
    "4. Remove all publications with empty authorlist "
   ]
  },
  {
   "cell_type": "code",
   "execution_count": null,
   "metadata": {},
   "outputs": [],
   "source": [
    "df = pd.read_csv('data/aps_raw_data.csv')\n",
    "author_df = pd.read_csv('/Users/christopherarcher/Desktop/Research/Papers/supplementarydata/APS_author2DOI.dat', on_bad_lines='skip')\n",
    "author_df.columns = ['ID','Author', 'Publications']\n",
    "author_df['Publications']=author_df['Publications'].map(lambda s: s.split('\\t'))\n",
    "df['Year'] = pd.to_datetime(df['Date']).dt.year"
   ]
  },
  {
   "cell_type": "markdown",
   "metadata": {},
   "source": [
    "check if network is growing over time \n",
    "check for active after 1st publication \n",
    "sum total weight of red, sum_total weight of blue\n",
    "parameters for netowork:\n",
    "- estimate $\\lambda$: curve fitting\n",
    "- estimating q: strategy\n",
    "- estimating p: strategy\n",
    "- weights: citations/years - total citations after 4 years\n",
    "- estimate weight parameters: average across all red-red, red-blu\n",
    "- estimating preferential attachment in the network\n",
    "- "
   ]
  },
  {
   "cell_type": "markdown",
   "metadata": {},
   "source": [
    "DATAFRAME FILTERING\n",
    "- estimate gender using GenderPerformr classifier and only accept if confident in gender\n",
    "- for publications dataframe, remove all publications before 2000, and re"
   ]
  },
  {
   "cell_type": "code",
   "execution_count": null,
   "metadata": {},
   "outputs": [],
   "source": [
    "\n",
    "gp = GenderPerformr()\n",
    "probs, labels = gp.predict(list(author_df['Author']))\n",
    "author_df['Gender'] = pd.Series(['M' if p <= 0.1 else 'F' if p >= 0.9 else 'N' for p in probs])\n",
    "tmp_df = author_df[author_df['Gender'] != 'N']\n",
    "filtered_author_df = tmp_df.explode('Publications')\n",
    "filtered_author_df"
   ]
  },
  {
   "cell_type": "code",
   "execution_count": null,
   "metadata": {},
   "outputs": [],
   "source": [
    "print(f\"Num Identified: {len(tmp_df)}\")\n",
    "print(f\"Total number of authors: {len(author_df)}\")\n",
    "print(f\"Proportion Kept: {len(tmp_df)/len(author_df)}\")"
   ]
  },
  {
   "cell_type": "code",
   "execution_count": null,
   "metadata": {},
   "outputs": [],
   "source": [
    "#PUBLICATION DATAFRAME FILTERING\n",
    "tmp_df = df[df['Authors'].map(lambda l: len(l)>0)]\n",
    "publication_df = tmp_df[tmp_df['Year']>= 1980]\n",
    "publication_df\n"
   ]
  },
  {
   "cell_type": "code",
   "execution_count": null,
   "metadata": {},
   "outputs": [],
   "source": [
    "#MERGE DATAFRAMES\n",
    "merged_publication_df = pd.merge(filtered_author_df, publication_df, left_on='Publications', right_on='ID', how='inner')\n",
    "merged_publication_df"
   ]
  },
  {
   "cell_type": "code",
   "execution_count": null,
   "metadata": {},
   "outputs": [],
   "source": [
    "import ast\n",
    "merged_publication_df['Coauthors'] =merged_publication_df['Authors'].apply(lambda x: ast.literal_eval(x))\n",
    "merged_publication_df['Num Coauthors'] = merged_publication_df['Coauthors'].map(lambda x: len(x))\n",
    "merged_publication_df = merged_publication_df[['Author', 'Publications', 'Gender', 'Date', 'Year', 'Num Coauthors', 'Coauthors']]"
   ]
  },
  {
   "cell_type": "code",
   "execution_count": null,
   "metadata": {},
   "outputs": [],
   "source": [
    "#AUTHOR FILTERING: An active author is one who has published at most every five years\n",
    "\n",
    "def filter_active_authors(df, last_year=2009):\n",
    "    authors = df['Author'].unique()\n",
    "    print(authors)\n",
    "    print(len(authors))\n",
    "    inactive_authors = []\n",
    "    for author in authors:\n",
    "        tmp_df = df[df['Author']==author]\n",
    "        #print(tmp_df['Authors'].head())\n",
    "        years = (list(tmp_df['Year'])+[last_year]) #add in the last year so every list has at least two elements\n",
    "        years.sort()\n",
    "        print(years)\n",
    "        author_active = reduce(lambda a,b: a & b, [years[i]- years[i-1] <= 5 for i in range(1,len(years))]) \n",
    "        if not author_active:\n",
    "            inactive_authors.append(author)\n",
    "    \n",
    "    return df[df['Author'].map(lambda s: s not in inactive_authors)]\n"
   ]
  },
  {
   "cell_type": "code",
   "execution_count": null,
   "metadata": {},
   "outputs": [],
   "source": [
    "\n",
    "penultimate_df = filter_active_authors(merged_publication_df)\n",
    "penultimate_df\n"
   ]
  },
  {
   "cell_type": "code",
   "execution_count": null,
   "metadata": {},
   "outputs": [],
   "source": [
    "def author_rank(full_name, author_list):\n",
    "    \"\"\"\n",
    "    Returns index of rank in coauthor list \n",
    "    \"\"\"\n",
    "    names = full_name.strip().lower().split(\" \")\n",
    "    print(names[0][0])\n",
    "    print(names[-1])\n",
    "    if author_list == []:\n",
    "        return 0\n",
    "    for i, author in enumerate(author_list):\n",
    "        author_names = author.strip().lower().replace(',','').split(\" \")\n",
    "        #remove undesirables\n",
    "        try:\n",
    "            author_names.remove('jr.')\n",
    "        except ValueError:\n",
    "            pass\n",
    "        print(author_names)\n",
    "        author_first_initial, author_last_name = author_names[0][0], author_names[-1]\n",
    "        print(author_first_initial, author_last_name)\n",
    "        if names[0][0] == author_first_initial and names[-1] == author_last_name:\n",
    "            return i"
   ]
  },
  {
   "cell_type": "code",
   "execution_count": null,
   "metadata": {},
   "outputs": [],
   "source": [
    "#we don't use this explicitly but checking if an author is first or last is a good to have\n",
    "def first_or_last_author(full_name, author_list):\n",
    "    \"\"\"\n",
    "    Returns boolean of whether the author is first or last author in coauthor_list\n",
    "    \"\"\"\n",
    "    try:\n",
    "        if len(author_list) <= 2:\n",
    "            return True\n",
    "        first_author_names = author_list[0].strip().lower().split(\" \")\n",
    "        last_author_names = author_list[-1].strip().lower().split(\" \")\n",
    "        names = full_name.strip().lower().split(\" \")\n",
    "        return (names[0][0] in (first_author_names[0][0], last_author_names[0][0])  and names[-1] in (first_author_names[-1],last_author_names[-1]))\n",
    "    except IndexError:\n",
    "        print(full_name.split(\" \"), author_list)\n",
    "        print(first_author_names)\n",
    "        print(last_author_names)"
   ]
  },
  {
   "cell_type": "code",
   "execution_count": null,
   "metadata": {},
   "outputs": [],
   "source": [
    "l = []\n",
    "for index, row in penultimate_df.iterrows():\n",
    "    l.append(author_rank(row['Author'],row['Coauthors']))\n",
    "penultimate_df['Author Rank'] = l\n",
    "penultimate_df = penultimate_df.reset_index(drop=True)\n",
    "penultimate_df"
   ]
  },
  {
   "cell_type": "code",
   "execution_count": null,
   "metadata": {},
   "outputs": [],
   "source": [
    "#FIND THE TWO AUTHORS NEAREST TO THE FIRST AND LAST: This is the method we use in the paper\n",
    "def soft_restrict_coauthors2(df):\n",
    "    \"\"\"\n",
    "    Returns a df where the first and last author are checked to see if active, and if not then the next author in the rank will be paired:\n",
    "    this is so every publication will have exactly 1 edge in the graph associated with it (to avoid double counting)\n",
    "    \"\"\"\n",
    "    def append_row(df, row):\n",
    "        return pd.concat([\n",
    "                df, \n",
    "                pd.DataFrame([row], columns=row.index)]\n",
    "            ).reset_index(drop=True)\n",
    "    df['index1'] = df.index\n",
    "    rows_to_keep = []\n",
    "    acc_df = pd.DataFrame(data=None, columns=df.columns)\n",
    "    for i,pub in enumerate(df['Publications'].unique()):\n",
    "        if i % 1000 == 0:\n",
    "            print(f\"Iteration {i}/{len(df['Publications'].unique())}\")\n",
    "\n",
    "        x_df= df[df['Publications']==pub]\n",
    "        x_df.sort_values(by=['Author Rank'])\n",
    "        #print(x_df)\n",
    "        rmin,rmax = x_df.iloc[0], x_df.iloc[-1]\n",
    "        #add rows to accumulator\n",
    "        acc_df.loc[len(acc_df)] = (rmin)\n",
    "        if rmin['Author'] != rmax['Author']:\n",
    "            acc_df.loc[len(acc_df)]= rmax\n",
    "    #print(rows_to_keep)\n",
    "    #new_df = df.loc[~df.index.isin(set(rows_to_keep))].reset_index(drop=True)\n",
    "    return acc_df"
   ]
  },
  {
   "cell_type": "code",
   "execution_count": null,
   "metadata": {},
   "outputs": [],
   "source": [
    "#FIND THE TWO AUTHORS NEAREST TO THE FIRST AND LAST\n",
    "def soft_restrict_coauthors(df):\n",
    "    \"\"\"\n",
    "    Returns a df where the first and last author are checked to see if active, and if not then the next author in the rank will be paired:\n",
    "    this is so every publication will have exactly 1 edge in the graph associated with it (to avoid double counting)\n",
    "    \"\"\"\n",
    "    Pub_IDs = {} #of the form (publication: ((min_index, max_index),(min_rank,max_rank))\n",
    "    #df = df.sample(frac=1).reset_index(drop=True) #shuffle dataframe rows\n",
    "    for index, row in df.iterrows():\n",
    "        if index % 1000 == 0:\n",
    "            print(index)\n",
    "            print(row)\n",
    "        \n",
    "        try:\n",
    "            (min_index, max_index),(min_rank,max_rank) = Pub_IDs[row['Publications']]\n",
    "            if row['Author Rank'] <= min_rank:\n",
    "                min_index, min_rank = index, row['Author Rank'] \n",
    "            elif row['Author Rank'] >= max_rank:\n",
    "                max_index, max_rank = index, row['Author Rank']\n",
    "            Pub_IDs[row['Publications']] = ((min_index, max_index),(min_rank,max_rank) )\n",
    "        except KeyError:\n",
    "            Pub_IDs[row['Publications']] = ((index,index), (row['Author Rank'],row['Author Rank']))\n",
    "\n",
    "    #accumulate all indices to connect\n",
    "    indices_to_keep = []\n",
    "    for k in Pub_IDs:\n",
    "        indices_to_keep.append(Pub_IDs[k][0][0])\n",
    "        indices_to_keep.append(Pub_IDs[k][0][1])\n",
    "    #print(indices_to_keep[0:20])   \n",
    "    new_df = df.loc[~df.index.isin(set(indices_to_keep))].reset_index(drop=True)\n",
    "    return new_df"
   ]
  },
  {
   "cell_type": "code",
   "execution_count": null,
   "metadata": {},
   "outputs": [],
   "source": [
    "#ALTERNATIVE FILTERING METHOD: ONLY ACCEPT FIRST AND LAST AUTHORS\n",
    "def hard_restrict_coauthors(df):\n",
    "    \"\"\"\n",
    "    Returns a df with only the first and last author:\n",
    "    this is so every publication will have exactly 1 edge in the graph associated with it (to avoid double counting)\n",
    "    \"\"\"\n",
    "    Pub_IDs = {}\n",
    "    indices_to_drop = []\n",
    "    #df = df.sample(frac=1).reset_index(drop=True) #shuffle dataframe rows\n",
    "    for index, row in df.iterrows():\n",
    "        if index % 1000 == 0:\n",
    "            print(index)\n",
    "            #print(row)\n",
    "        if first_or_last_author(row['Author'],row['Coauthors']):\n",
    "            try:\n",
    "                Pub_IDs[row['Publications']] += 1/(1 if len(row['Coauthors'])<= 1 else 2)\n",
    "            except:\n",
    "                Pub_IDs[row['Publications']] = 1/(1 if len(row['Coauthors'])<= 1 else 2)\n",
    "        else:\n",
    "            indices_to_drop.append(index)\n",
    "    #print(indices_to_drop)\n",
    "    #find publications where both first and last author are active\n",
    "    admissible_publications = [k for k in Pub_IDs if Pub_IDs[k]==1]\n",
    "    new_df = df.drop(indices_to_drop)\n",
    "    new_df = new_df[new_df['Publications'].isin(admissible_publications)].reset_index(drop=True)\n",
    "    return new_df"
   ]
  },
  {
   "cell_type": "code",
   "execution_count": null,
   "metadata": {},
   "outputs": [],
   "source": [
    "final_df = soft_restrict_coauthors2(penultimate_df)\n",
    "#final_df = penultimate_df\n",
    "final_df = final_df.reset_index(drop=True)\n",
    "final_df[final_df['Gender']=='F']"
   ]
  },
  {
   "cell_type": "code",
   "execution_count": null,
   "metadata": {},
   "outputs": [],
   "source": [
    "nan_df = final_df[final_df['Author Rank'].isna()]\n",
    "nan_df"
   ]
  },
  {
   "cell_type": "code",
   "execution_count": null,
   "metadata": {},
   "outputs": [],
   "source": [
    "#Test case\n",
    "pub = '10.1103/PhysRevB.53.7890'\n",
    "df = penultimate_df\n",
    "df['index1'] = df.index\n",
    "x_df= df[df['Publications']==pub]\n",
    "x_df.sort_values(by=['Author Rank'])\n",
    "            \n",
    "imin,imax = x_df.iloc[0]['index1'], x_df.iloc[-1]['index1']\n",
    "print(imin)\n",
    "print(imax)#add rows to accumulator\n",
    "print(df.iloc[imin])"
   ]
  },
  {
   "cell_type": "code",
   "execution_count": null,
   "metadata": {},
   "outputs": [],
   "source": [
    "final_df.to_csv('data/aps_filtered_data.csv')"
   ]
  }
 ],
 "metadata": {
  "kernelspec": {
   "display_name": "Python 3",
   "language": "python",
   "name": "python3"
  },
  "language_info": {
   "codemirror_mode": {
    "name": "ipython",
    "version": 3
   },
   "file_extension": ".py",
   "mimetype": "text/x-python",
   "name": "python",
   "nbconvert_exporter": "python",
   "pygments_lexer": "ipython3",
   "version": "3.0.0"
  }
 },
 "nbformat": 4,
 "nbformat_minor": 2
}
